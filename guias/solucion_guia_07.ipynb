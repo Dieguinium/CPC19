{
 "cells": [
  {
   "cell_type": "code",
   "execution_count": 1,
   "metadata": {
    "collapsed": true
   },
   "outputs": [],
   "source": [
    "import matplotlib.pyplot as plt\n",
    "import numpy as np\n",
    "%matplotlib inline"
   ]
  },
  {
   "cell_type": "markdown",
   "metadata": {},
   "source": [
    "#Procesamiento visitantes_cine_2016.dat"
   ]
  },
  {
   "cell_type": "code",
   "execution_count": 2,
   "metadata": {
    "collapsed": true
   },
   "outputs": [],
   "source": [
    "str_in = 'Data/Guia/visitantes_cine_2016.dat'"
   ]
  },
  {
   "cell_type": "code",
   "execution_count": 3,
   "metadata": {
    "collapsed": false
   },
   "outputs": [
    {
     "name": "stdout",
     "output_type": "stream",
     "text": [
      "1 408\n",
      "2 520\n",
      "3 305\n",
      "4 312\n",
      "5 319\n",
      "6 380\n",
      "7 540\n",
      "8 400\n",
      "9 398\n",
      "10 299\n",
      "11 250\n",
      "12 350\n",
      "\n"
     ]
    }
   ],
   "source": [
    "f = open(str_in)\n",
    "data = f.read()\n",
    "print data\n",
    "f.close()"
   ]
  },
  {
   "cell_type": "code",
   "execution_count": 4,
   "metadata": {
    "collapsed": false
   },
   "outputs": [
    {
     "name": "stdout",
     "output_type": "stream",
     "text": [
      "1 408\n",
      "\n"
     ]
    }
   ],
   "source": [
    "f = open(str_in)\n",
    "data = f.readline()\n",
    "print data\n",
    "f.close()"
   ]
  },
  {
   "cell_type": "code",
   "execution_count": 5,
   "metadata": {
    "collapsed": false
   },
   "outputs": [
    {
     "name": "stdout",
     "output_type": "stream",
     "text": [
      "['1 408\\n', '2 520\\n', '3 305\\n', '4 312\\n', '5 319\\n', '6 380\\n', '7 540\\n', '8 400\\n', '9 398\\n', '10 299\\n', '11 250\\n', '12 350\\n']\n"
     ]
    }
   ],
   "source": [
    "f = open(str_in)\n",
    "data = f.readlines()\n",
    "print data\n",
    "f.close()"
   ]
  },
  {
   "cell_type": "markdown",
   "metadata": {},
   "source": [
    "Ejercicio usando un bucle"
   ]
  },
  {
   "cell_type": "code",
   "execution_count": 6,
   "metadata": {
    "collapsed": true
   },
   "outputs": [],
   "source": [
    "f = open(str_in)\n",
    "mes = []\n",
    "vis = []\n",
    "for line in f:\n",
    "    mes.append(int(line.split()[0]))\n",
    "    vis.append(int(line.split()[1]))"
   ]
  },
  {
   "cell_type": "code",
   "execution_count": 7,
   "metadata": {
    "collapsed": false
   },
   "outputs": [
    {
     "data": {
      "text/plain": [
       "([1, 2, 3, 4, 5, 6, 7, 8, 9, 10, 11, 12],\n",
       " [408, 520, 305, 312, 319, 380, 540, 400, 398, 299, 250, 350])"
      ]
     },
     "execution_count": 7,
     "metadata": {},
     "output_type": "execute_result"
    }
   ],
   "source": [
    "mes, vis"
   ]
  },
  {
   "cell_type": "markdown",
   "metadata": {},
   "source": [
    "Ejercicio para escribir el promedio y el total a un archivo nuevo."
   ]
  },
  {
   "cell_type": "code",
   "execution_count": 8,
   "metadata": {
    "collapsed": true
   },
   "outputs": [],
   "source": [
    "mes_np = np.asarray(mes)\n",
    "vis_np = np.asarray(vis)"
   ]
  },
  {
   "cell_type": "code",
   "execution_count": 9,
   "metadata": {
    "collapsed": true
   },
   "outputs": [],
   "source": [
    "str_out = 'Data/Guia/visitantes_promedio.dat'\n",
    "f = open (str_out,'w+')\n",
    "f.write(\"El numero de visitantes anuales es: %d\\n\" % (vis_np.sum()))\n",
    "f.write(\"El numero de visitantes promedio mensuales es: %2.1f\\n\" % (vis_np.mean()))\n",
    "f.close()"
   ]
  },
  {
   "cell_type": "markdown",
   "metadata": {},
   "source": [
    "# Procesamiento archivo con dolar observado"
   ]
  },
  {
   "cell_type": "code",
   "execution_count": 10,
   "metadata": {
    "collapsed": true
   },
   "outputs": [],
   "source": [
    "str_in = 'Data/Guia/dolar.csv'"
   ]
  },
  {
   "cell_type": "code",
   "execution_count": 11,
   "metadata": {
    "collapsed": true
   },
   "outputs": [],
   "source": [
    "np.genfromtxt?"
   ]
  },
  {
   "cell_type": "code",
   "execution_count": 12,
   "metadata": {
    "collapsed": false
   },
   "outputs": [],
   "source": [
    "data = np.genfromtxt(str_in,dtype=None,skip_header=3,delimiter=',')"
   ]
  },
  {
   "cell_type": "code",
   "execution_count": 13,
   "metadata": {
    "collapsed": false
   },
   "outputs": [],
   "source": [
    "dolar = []\n",
    "for i in range(len(data)):\n",
    "    if not np.isnan(data[i][1]):\n",
    "        dolar.append(data[i][1])"
   ]
  },
  {
   "cell_type": "code",
   "execution_count": 14,
   "metadata": {
    "collapsed": false
   },
   "outputs": [],
   "source": [
    "dolar_np = np.asarray(dolar)"
   ]
  },
  {
   "cell_type": "code",
   "execution_count": 15,
   "metadata": {
    "collapsed": false
   },
   "outputs": [
    {
     "data": {
      "text/plain": [
       "676.83242063492071"
      ]
     },
     "execution_count": 15,
     "metadata": {},
     "output_type": "execute_result"
    }
   ],
   "source": [
    "dolar_np.mean()"
   ]
  },
  {
   "cell_type": "code",
   "execution_count": 16,
   "metadata": {
    "collapsed": false
   },
   "outputs": [
    {
     "data": {
      "text/plain": [
       "[<matplotlib.lines.Line2D at 0x77a48d0>]"
      ]
     },
     "execution_count": 16,
     "metadata": {},
     "output_type": "execute_result"
    },
    {
     "data": {
      "image/png": "[encoded data removed]",
      "text/plain": [
       "<matplotlib.figure.Figure at 0x3ea36d8>"
      ]
     },
     "metadata": {},
     "output_type": "display_data"
    }
   ],
   "source": [
    "plt.plot(dolar_np,'o')"
   ]
  },
  {
   "cell_type": "markdown",
   "metadata": {},
   "source": [
    "#Procesamiento desviación cuadrática media en función tiempo simulación"
   ]
  },
  {
   "cell_type": "code",
   "execution_count": 17,
   "metadata": {
    "collapsed": true
   },
   "outputs": [],
   "source": [
    "str_in = 'Data/Guia/msd.xvg'"
   ]
  },
  {
   "cell_type": "code",
   "execution_count": 18,
   "metadata": {
    "collapsed": false
   },
   "outputs": [],
   "source": [
    "data = np.loadtxt(str_in,comments=['#','@'])"
   ]
  },
  {
   "cell_type": "code",
   "execution_count": 19,
   "metadata": {
    "collapsed": false
   },
   "outputs": [],
   "source": [
    "t = data[:,0]\n",
    "msd = data[:,1]"
   ]
  },
  {
   "cell_type": "code",
   "execution_count": 20,
   "metadata": {
    "collapsed": false
   },
   "outputs": [
    {
     "data": {
      "text/plain": [
       "[<matplotlib.lines.Line2D at 0x3ea3630>]"
      ]
     },
     "execution_count": 20,
     "metadata": {},
     "output_type": "execute_result"
    },
    {
     "data": {
      "image/png": "[encoded data removed]",
      "text/plain": [
       "<matplotlib.figure.Figure at 0x713e7b8>"
      ]
     },
     "metadata": {},
     "output_type": "display_data"
    }
   ],
   "source": [
    "plt.plot(t,msd)"
   ]
  },
  {
   "cell_type": "code",
   "execution_count": 21,
   "metadata": {
    "collapsed": true
   },
   "outputs": [],
   "source": [
    "import scipy.stats as stats"
   ]
  },
  {
   "cell_type": "code",
   "execution_count": 22,
   "metadata": {
    "collapsed": false
   },
   "outputs": [],
   "source": [
    "t_np = np.asarray(t)\n",
    "msd_np = np.asarray(msd)"
   ]
  },
  {
   "cell_type": "code",
   "execution_count": 23,
   "metadata": {
    "collapsed": false
   },
   "outputs": [
    {
     "data": {
      "text/plain": [
       "LinregressResult(slope=0.013229392285058568, intercept=2.3370459141000808, rvalue=0.99668038717090268, pvalue=0.0, stderr=4.8376194609001757e-05)"
      ]
     },
     "execution_count": 23,
     "metadata": {},
     "output_type": "execute_result"
    }
   ],
   "source": [
    "stats.linregress(t_np,msd_np)"
   ]
  },
  {
   "cell_type": "markdown",
   "metadata": {},
   "source": [
    "#Procesamiento de precipitaciones primer semestre 2015"
   ]
  },
  {
   "cell_type": "code",
   "execution_count": 24,
   "metadata": {
    "collapsed": true
   },
   "outputs": [],
   "source": [
    "str_in = 'Data/Guia/precipitaciones.csv'"
   ]
  },
  {
   "cell_type": "code",
   "execution_count": 25,
   "metadata": {
    "collapsed": true
   },
   "outputs": [],
   "source": [
    "import pandas as pd"
   ]
  },
  {
   "cell_type": "code",
   "execution_count": 26,
   "metadata": {
    "collapsed": false
   },
   "outputs": [],
   "source": [
    "data = pd.read_csv?"
   ]
  },
  {
   "cell_type": "code",
   "execution_count": null,
   "metadata": {
    "collapsed": true
   },
   "outputs": [],
   "source": [
    "data = pd.read_csv"
   ]
  },
  {
   "cell_type": "code",
   "execution_count": 27,
   "metadata": {
    "collapsed": true
   },
   "outputs": [],
   "source": [
    "data = pd.read_csv"
   ]
  },
  {
   "cell_type": "code",
   "execution_count": 28,
   "metadata": {
    "collapsed": true
   },
   "outputs": [],
   "source": [
    "data = pd.read_csv(str_in,delimiter=';',names=['index','estacion','ubicacion','x','ano','mes','dia','prec'])"
   ]
  },
  {
   "cell_type": "code",
   "execution_count": 109,
   "metadata": {
    "collapsed": false
   },
   "outputs": [
    {
     "data": {
      "text/html": [
       "<div>\n",
       "<table border=\"1\" class=\"dataframe\">\n",
       "  <thead>\n",
       "    <tr style=\"text-align: right;\">\n",
       "      <th></th>\n",
       "      <th>index</th>\n",
       "      <th>estacion</th>\n",
       "      <th>ubicacion</th>\n",
       "      <th>x</th>\n",
       "      <th>ano</th>\n",
       "      <th>mes</th>\n",
       "      <th>dia</th>\n",
       "      <th>prec</th>\n",
       "    </tr>\n",
       "  </thead>\n",
       "  <tbody>\n",
       "    <tr>\n",
       "      <th>0</th>\n",
       "      <td>180005</td>\n",
       "      <td>Chacalluta, Arica Ap.</td>\n",
       "      <td>18&amp;deg 21' 5'' S</td>\n",
       "      <td>63</td>\n",
       "      <td>2015</td>\n",
       "      <td>1</td>\n",
       "      <td>1</td>\n",
       "      <td>0.0</td>\n",
       "    </tr>\n",
       "    <tr>\n",
       "      <th>3288</th>\n",
       "      <td>330031</td>\n",
       "      <td>Juan Fernández, Estación Meteorológica.</td>\n",
       "      <td>33&amp;deg 38' 12'' S</td>\n",
       "      <td>35</td>\n",
       "      <td>2015</td>\n",
       "      <td>4</td>\n",
       "      <td>11</td>\n",
       "      <td>0.0</td>\n",
       "    </tr>\n",
       "    <tr>\n",
       "      <th>3289</th>\n",
       "      <td>330031</td>\n",
       "      <td>Juan Fernández, Estación Meteorológica.</td>\n",
       "      <td>33&amp;deg 38' 12'' S</td>\n",
       "      <td>35</td>\n",
       "      <td>2015</td>\n",
       "      <td>4</td>\n",
       "      <td>12</td>\n",
       "      <td>0.0</td>\n",
       "    </tr>\n",
       "    <tr>\n",
       "      <th>3291</th>\n",
       "      <td>330031</td>\n",
       "      <td>Juan Fernández, Estación Meteorológica.</td>\n",
       "      <td>33&amp;deg 38' 12'' S</td>\n",
       "      <td>35</td>\n",
       "      <td>2015</td>\n",
       "      <td>4</td>\n",
       "      <td>14</td>\n",
       "      <td>0.0</td>\n",
       "    </tr>\n",
       "    <tr>\n",
       "      <th>3293</th>\n",
       "      <td>330031</td>\n",
       "      <td>Juan Fernández, Estación Meteorológica.</td>\n",
       "      <td>33&amp;deg 38' 12'' S</td>\n",
       "      <td>35</td>\n",
       "      <td>2015</td>\n",
       "      <td>4</td>\n",
       "      <td>16</td>\n",
       "      <td>0.0</td>\n",
       "    </tr>\n",
       "    <tr>\n",
       "      <th>3294</th>\n",
       "      <td>330031</td>\n",
       "      <td>Juan Fernández, Estación Meteorológica.</td>\n",
       "      <td>33&amp;deg 38' 12'' S</td>\n",
       "      <td>35</td>\n",
       "      <td>2015</td>\n",
       "      <td>4</td>\n",
       "      <td>17</td>\n",
       "      <td>0.0</td>\n",
       "    </tr>\n",
       "    <tr>\n",
       "      <th>3298</th>\n",
       "      <td>330031</td>\n",
       "      <td>Juan Fernández, Estación Meteorológica.</td>\n",
       "      <td>33&amp;deg 38' 12'' S</td>\n",
       "      <td>35</td>\n",
       "      <td>2015</td>\n",
       "      <td>4</td>\n",
       "      <td>21</td>\n",
       "      <td>0.0</td>\n",
       "    </tr>\n",
       "    <tr>\n",
       "      <th>3299</th>\n",
       "      <td>330031</td>\n",
       "      <td>Juan Fernández, Estación Meteorológica.</td>\n",
       "      <td>33&amp;deg 38' 12'' S</td>\n",
       "      <td>35</td>\n",
       "      <td>2015</td>\n",
       "      <td>4</td>\n",
       "      <td>22</td>\n",
       "      <td>0.0</td>\n",
       "    </tr>\n",
       "    <tr>\n",
       "      <th>3300</th>\n",
       "      <td>330031</td>\n",
       "      <td>Juan Fernández, Estación Meteorológica.</td>\n",
       "      <td>33&amp;deg 38' 12'' S</td>\n",
       "      <td>35</td>\n",
       "      <td>2015</td>\n",
       "      <td>4</td>\n",
       "      <td>23</td>\n",
       "      <td>0.0</td>\n",
       "    </tr>\n",
       "    <tr>\n",
       "      <th>3301</th>\n",
       "      <td>330031</td>\n",
       "      <td>Juan Fernández, Estación Meteorológica.</td>\n",
       "      <td>33&amp;deg 38' 12'' S</td>\n",
       "      <td>35</td>\n",
       "      <td>2015</td>\n",
       "      <td>4</td>\n",
       "      <td>24</td>\n",
       "      <td>0.0</td>\n",
       "    </tr>\n",
       "    <tr>\n",
       "      <th>3302</th>\n",
       "      <td>330031</td>\n",
       "      <td>Juan Fernández, Estación Meteorológica.</td>\n",
       "      <td>33&amp;deg 38' 12'' S</td>\n",
       "      <td>35</td>\n",
       "      <td>2015</td>\n",
       "      <td>4</td>\n",
       "      <td>25</td>\n",
       "      <td>0.0</td>\n",
       "    </tr>\n",
       "    <tr>\n",
       "      <th>3303</th>\n",
       "      <td>330031</td>\n",
       "      <td>Juan Fernández, Estación Meteorológica.</td>\n",
       "      <td>33&amp;deg 38' 12'' S</td>\n",
       "      <td>35</td>\n",
       "      <td>2015</td>\n",
       "      <td>4</td>\n",
       "      <td>26</td>\n",
       "      <td>0.0</td>\n",
       "    </tr>\n",
       "    <tr>\n",
       "      <th>3306</th>\n",
       "      <td>330031</td>\n",
       "      <td>Juan Fernández, Estación Meteorológica.</td>\n",
       "      <td>33&amp;deg 38' 12'' S</td>\n",
       "      <td>35</td>\n",
       "      <td>2015</td>\n",
       "      <td>4</td>\n",
       "      <td>29</td>\n",
       "      <td>0.0</td>\n",
       "    </tr>\n",
       "    <tr>\n",
       "      <th>3308</th>\n",
       "      <td>340031</td>\n",
       "      <td>General Freire, Curicó Ad.</td>\n",
       "      <td>34&amp;deg 57' 59'' S</td>\n",
       "      <td>230</td>\n",
       "      <td>2015</td>\n",
       "      <td>4</td>\n",
       "      <td>1</td>\n",
       "      <td>0.0</td>\n",
       "    </tr>\n",
       "    <tr>\n",
       "      <th>3309</th>\n",
       "      <td>340031</td>\n",
       "      <td>General Freire, Curicó Ad.</td>\n",
       "      <td>34&amp;deg 57' 59'' S</td>\n",
       "      <td>230</td>\n",
       "      <td>2015</td>\n",
       "      <td>4</td>\n",
       "      <td>2</td>\n",
       "      <td>0.0</td>\n",
       "    </tr>\n",
       "    <tr>\n",
       "      <th>3310</th>\n",
       "      <td>340031</td>\n",
       "      <td>General Freire, Curicó Ad.</td>\n",
       "      <td>34&amp;deg 57' 59'' S</td>\n",
       "      <td>230</td>\n",
       "      <td>2015</td>\n",
       "      <td>4</td>\n",
       "      <td>3</td>\n",
       "      <td>0.0</td>\n",
       "    </tr>\n",
       "    <tr>\n",
       "      <th>3311</th>\n",
       "      <td>340031</td>\n",
       "      <td>General Freire, Curicó Ad.</td>\n",
       "      <td>34&amp;deg 57' 59'' S</td>\n",
       "      <td>230</td>\n",
       "      <td>2015</td>\n",
       "      <td>4</td>\n",
       "      <td>4</td>\n",
       "      <td>0.0</td>\n",
       "    </tr>\n",
       "    <tr>\n",
       "      <th>3312</th>\n",
       "      <td>340031</td>\n",
       "      <td>General Freire, Curicó Ad.</td>\n",
       "      <td>34&amp;deg 57' 59'' S</td>\n",
       "      <td>230</td>\n",
       "      <td>2015</td>\n",
       "      <td>4</td>\n",
       "      <td>5</td>\n",
       "      <td>0.0</td>\n",
       "    </tr>\n",
       "    <tr>\n",
       "      <th>3331</th>\n",
       "      <td>340031</td>\n",
       "      <td>General Freire, Curicó Ad.</td>\n",
       "      <td>34&amp;deg 57' 59'' S</td>\n",
       "      <td>230</td>\n",
       "      <td>2015</td>\n",
       "      <td>4</td>\n",
       "      <td>24</td>\n",
       "      <td>0.0</td>\n",
       "    </tr>\n",
       "    <tr>\n",
       "      <th>3330</th>\n",
       "      <td>340031</td>\n",
       "      <td>General Freire, Curicó Ad.</td>\n",
       "      <td>34&amp;deg 57' 59'' S</td>\n",
       "      <td>230</td>\n",
       "      <td>2015</td>\n",
       "      <td>4</td>\n",
       "      <td>23</td>\n",
       "      <td>0.0</td>\n",
       "    </tr>\n",
       "    <tr>\n",
       "      <th>3329</th>\n",
       "      <td>340031</td>\n",
       "      <td>General Freire, Curicó Ad.</td>\n",
       "      <td>34&amp;deg 57' 59'' S</td>\n",
       "      <td>230</td>\n",
       "      <td>2015</td>\n",
       "      <td>4</td>\n",
       "      <td>22</td>\n",
       "      <td>0.0</td>\n",
       "    </tr>\n",
       "    <tr>\n",
       "      <th>3328</th>\n",
       "      <td>340031</td>\n",
       "      <td>General Freire, Curicó Ad.</td>\n",
       "      <td>34&amp;deg 57' 59'' S</td>\n",
       "      <td>230</td>\n",
       "      <td>2015</td>\n",
       "      <td>4</td>\n",
       "      <td>21</td>\n",
       "      <td>0.0</td>\n",
       "    </tr>\n",
       "    <tr>\n",
       "      <th>3324</th>\n",
       "      <td>340031</td>\n",
       "      <td>General Freire, Curicó Ad.</td>\n",
       "      <td>34&amp;deg 57' 59'' S</td>\n",
       "      <td>230</td>\n",
       "      <td>2015</td>\n",
       "      <td>4</td>\n",
       "      <td>17</td>\n",
       "      <td>0.0</td>\n",
       "    </tr>\n",
       "    <tr>\n",
       "      <th>3321</th>\n",
       "      <td>340031</td>\n",
       "      <td>General Freire, Curicó Ad.</td>\n",
       "      <td>34&amp;deg 57' 59'' S</td>\n",
       "      <td>230</td>\n",
       "      <td>2015</td>\n",
       "      <td>4</td>\n",
       "      <td>14</td>\n",
       "      <td>0.0</td>\n",
       "    </tr>\n",
       "    <tr>\n",
       "      <th>3287</th>\n",
       "      <td>330031</td>\n",
       "      <td>Juan Fernández, Estación Meteorológica.</td>\n",
       "      <td>33&amp;deg 38' 12'' S</td>\n",
       "      <td>35</td>\n",
       "      <td>2015</td>\n",
       "      <td>4</td>\n",
       "      <td>10</td>\n",
       "      <td>0.0</td>\n",
       "    </tr>\n",
       "    <tr>\n",
       "      <th>3320</th>\n",
       "      <td>340031</td>\n",
       "      <td>General Freire, Curicó Ad.</td>\n",
       "      <td>34&amp;deg 57' 59'' S</td>\n",
       "      <td>230</td>\n",
       "      <td>2015</td>\n",
       "      <td>4</td>\n",
       "      <td>13</td>\n",
       "      <td>0.0</td>\n",
       "    </tr>\n",
       "    <tr>\n",
       "      <th>3318</th>\n",
       "      <td>340031</td>\n",
       "      <td>General Freire, Curicó Ad.</td>\n",
       "      <td>34&amp;deg 57' 59'' S</td>\n",
       "      <td>230</td>\n",
       "      <td>2015</td>\n",
       "      <td>4</td>\n",
       "      <td>11</td>\n",
       "      <td>0.0</td>\n",
       "    </tr>\n",
       "    <tr>\n",
       "      <th>3317</th>\n",
       "      <td>340031</td>\n",
       "      <td>General Freire, Curicó Ad.</td>\n",
       "      <td>34&amp;deg 57' 59'' S</td>\n",
       "      <td>230</td>\n",
       "      <td>2015</td>\n",
       "      <td>4</td>\n",
       "      <td>10</td>\n",
       "      <td>0.0</td>\n",
       "    </tr>\n",
       "    <tr>\n",
       "      <th>3316</th>\n",
       "      <td>340031</td>\n",
       "      <td>General Freire, Curicó Ad.</td>\n",
       "      <td>34&amp;deg 57' 59'' S</td>\n",
       "      <td>230</td>\n",
       "      <td>2015</td>\n",
       "      <td>4</td>\n",
       "      <td>9</td>\n",
       "      <td>0.0</td>\n",
       "    </tr>\n",
       "    <tr>\n",
       "      <th>3315</th>\n",
       "      <td>340031</td>\n",
       "      <td>General Freire, Curicó Ad.</td>\n",
       "      <td>34&amp;deg 57' 59'' S</td>\n",
       "      <td>230</td>\n",
       "      <td>2015</td>\n",
       "      <td>4</td>\n",
       "      <td>8</td>\n",
       "      <td>0.0</td>\n",
       "    </tr>\n",
       "    <tr>\n",
       "      <th>...</th>\n",
       "      <td>...</td>\n",
       "      <td>...</td>\n",
       "      <td>...</td>\n",
       "      <td>...</td>\n",
       "      <td>...</td>\n",
       "      <td>...</td>\n",
       "      <td>...</td>\n",
       "      <td>...</td>\n",
       "    </tr>\n",
       "    <tr>\n",
       "      <th>3622</th>\n",
       "      <td>450001</td>\n",
       "      <td>Puerto Aysén Ad.</td>\n",
       "      <td>45&amp;deg 23' 46'' S</td>\n",
       "      <td>10</td>\n",
       "      <td>2015</td>\n",
       "      <td>4</td>\n",
       "      <td>19</td>\n",
       "      <td>43.4</td>\n",
       "    </tr>\n",
       "    <tr>\n",
       "      <th>4556</th>\n",
       "      <td>430002</td>\n",
       "      <td>Futaleufú Ad.</td>\n",
       "      <td>43&amp;deg 11' 20'' S</td>\n",
       "      <td>347</td>\n",
       "      <td>2015</td>\n",
       "      <td>5</td>\n",
       "      <td>19</td>\n",
       "      <td>43.6</td>\n",
       "    </tr>\n",
       "    <tr>\n",
       "      <th>5022</th>\n",
       "      <td>270001</td>\n",
       "      <td>Mataveri  Isla de Pascua Ap.</td>\n",
       "      <td>27&amp;deg 9' 38'' S</td>\n",
       "      <td>48</td>\n",
       "      <td>2015</td>\n",
       "      <td>6</td>\n",
       "      <td>15</td>\n",
       "      <td>44.0</td>\n",
       "    </tr>\n",
       "    <tr>\n",
       "      <th>4275</th>\n",
       "      <td>330031</td>\n",
       "      <td>Juan Fernández, Estación Meteorológica.</td>\n",
       "      <td>33&amp;deg 38' 12'' S</td>\n",
       "      <td>35</td>\n",
       "      <td>2015</td>\n",
       "      <td>5</td>\n",
       "      <td>17</td>\n",
       "      <td>44.4</td>\n",
       "    </tr>\n",
       "    <tr>\n",
       "      <th>4587</th>\n",
       "      <td>430004</td>\n",
       "      <td>Alto Palena Ad.</td>\n",
       "      <td>43&amp;deg 36' 42'' S</td>\n",
       "      <td>281</td>\n",
       "      <td>2015</td>\n",
       "      <td>5</td>\n",
       "      <td>19</td>\n",
       "      <td>44.6</td>\n",
       "    </tr>\n",
       "    <tr>\n",
       "      <th>5549</th>\n",
       "      <td>430004</td>\n",
       "      <td>Alto Palena Ad.</td>\n",
       "      <td>43&amp;deg 36' 42'' S</td>\n",
       "      <td>281</td>\n",
       "      <td>2015</td>\n",
       "      <td>6</td>\n",
       "      <td>2</td>\n",
       "      <td>45.2</td>\n",
       "    </tr>\n",
       "    <tr>\n",
       "      <th>2631</th>\n",
       "      <td>450001</td>\n",
       "      <td>Puerto Aysén Ad.</td>\n",
       "      <td>45&amp;deg 23' 46'' S</td>\n",
       "      <td>10</td>\n",
       "      <td>2015</td>\n",
       "      <td>3</td>\n",
       "      <td>8</td>\n",
       "      <td>45.5</td>\n",
       "    </tr>\n",
       "    <tr>\n",
       "      <th>5813</th>\n",
       "      <td>550001</td>\n",
       "      <td>Guardia Marina Zañartu, Pto Williams Ad.</td>\n",
       "      <td>54&amp;deg 55' 54'' S</td>\n",
       "      <td>10</td>\n",
       "      <td>2015</td>\n",
       "      <td>6</td>\n",
       "      <td>15</td>\n",
       "      <td>47.2</td>\n",
       "    </tr>\n",
       "    <tr>\n",
       "      <th>4430</th>\n",
       "      <td>380013</td>\n",
       "      <td>Maquehue, Temuco Ad.</td>\n",
       "      <td>38&amp;deg 46' 4'' S</td>\n",
       "      <td>86</td>\n",
       "      <td>2015</td>\n",
       "      <td>5</td>\n",
       "      <td>17</td>\n",
       "      <td>47.5</td>\n",
       "    </tr>\n",
       "    <tr>\n",
       "      <th>5554</th>\n",
       "      <td>430004</td>\n",
       "      <td>Alto Palena Ad.</td>\n",
       "      <td>43&amp;deg 36' 42'' S</td>\n",
       "      <td>281</td>\n",
       "      <td>2015</td>\n",
       "      <td>6</td>\n",
       "      <td>7</td>\n",
       "      <td>48.7</td>\n",
       "    </tr>\n",
       "    <tr>\n",
       "      <th>4583</th>\n",
       "      <td>430004</td>\n",
       "      <td>Alto Palena Ad.</td>\n",
       "      <td>43&amp;deg 36' 42'' S</td>\n",
       "      <td>281</td>\n",
       "      <td>2015</td>\n",
       "      <td>5</td>\n",
       "      <td>15</td>\n",
       "      <td>48.8</td>\n",
       "    </tr>\n",
       "    <tr>\n",
       "      <th>2637</th>\n",
       "      <td>450001</td>\n",
       "      <td>Puerto Aysén Ad.</td>\n",
       "      <td>45&amp;deg 23' 46'' S</td>\n",
       "      <td>10</td>\n",
       "      <td>2015</td>\n",
       "      <td>3</td>\n",
       "      <td>15</td>\n",
       "      <td>49.0</td>\n",
       "    </tr>\n",
       "    <tr>\n",
       "      <th>3458</th>\n",
       "      <td>390006</td>\n",
       "      <td>Pichoy, Valdivia Ad.</td>\n",
       "      <td>39&amp;deg 39' 2'' S</td>\n",
       "      <td>21</td>\n",
       "      <td>2015</td>\n",
       "      <td>4</td>\n",
       "      <td>1</td>\n",
       "      <td>51.1</td>\n",
       "    </tr>\n",
       "    <tr>\n",
       "      <th>5542</th>\n",
       "      <td>430002</td>\n",
       "      <td>Futaleufú Ad.</td>\n",
       "      <td>43&amp;deg 11' 20'' S</td>\n",
       "      <td>347</td>\n",
       "      <td>2015</td>\n",
       "      <td>6</td>\n",
       "      <td>25</td>\n",
       "      <td>52.2</td>\n",
       "    </tr>\n",
       "    <tr>\n",
       "      <th>2651</th>\n",
       "      <td>450001</td>\n",
       "      <td>Puerto Aysén Ad.</td>\n",
       "      <td>45&amp;deg 23' 46'' S</td>\n",
       "      <td>10</td>\n",
       "      <td>2015</td>\n",
       "      <td>3</td>\n",
       "      <td>31</td>\n",
       "      <td>53.5</td>\n",
       "    </tr>\n",
       "    <tr>\n",
       "      <th>4616</th>\n",
       "      <td>450001</td>\n",
       "      <td>Puerto Aysén Ad.</td>\n",
       "      <td>45&amp;deg 23' 46'' S</td>\n",
       "      <td>10</td>\n",
       "      <td>2015</td>\n",
       "      <td>5</td>\n",
       "      <td>21</td>\n",
       "      <td>56.0</td>\n",
       "    </tr>\n",
       "    <tr>\n",
       "      <th>3616</th>\n",
       "      <td>450001</td>\n",
       "      <td>Puerto Aysén Ad.</td>\n",
       "      <td>45&amp;deg 23' 46'' S</td>\n",
       "      <td>10</td>\n",
       "      <td>2015</td>\n",
       "      <td>4</td>\n",
       "      <td>12</td>\n",
       "      <td>56.0</td>\n",
       "    </tr>\n",
       "    <tr>\n",
       "      <th>4589</th>\n",
       "      <td>430004</td>\n",
       "      <td>Alto Palena Ad.</td>\n",
       "      <td>43&amp;deg 36' 42'' S</td>\n",
       "      <td>281</td>\n",
       "      <td>2015</td>\n",
       "      <td>5</td>\n",
       "      <td>21</td>\n",
       "      <td>57.8</td>\n",
       "    </tr>\n",
       "    <tr>\n",
       "      <th>5431</th>\n",
       "      <td>390006</td>\n",
       "      <td>Pichoy, Valdivia Ad.</td>\n",
       "      <td>39&amp;deg 39' 2'' S</td>\n",
       "      <td>21</td>\n",
       "      <td>2015</td>\n",
       "      <td>6</td>\n",
       "      <td>4</td>\n",
       "      <td>58.4</td>\n",
       "    </tr>\n",
       "    <tr>\n",
       "      <th>4444</th>\n",
       "      <td>380013</td>\n",
       "      <td>Maquehue, Temuco Ad.</td>\n",
       "      <td>38&amp;deg 46' 4'' S</td>\n",
       "      <td>86</td>\n",
       "      <td>2015</td>\n",
       "      <td>5</td>\n",
       "      <td>31</td>\n",
       "      <td>58.5</td>\n",
       "    </tr>\n",
       "    <tr>\n",
       "      <th>3045</th>\n",
       "      <td>270001</td>\n",
       "      <td>Mataveri  Isla de Pascua Ap.</td>\n",
       "      <td>27&amp;deg 9' 38'' S</td>\n",
       "      <td>48</td>\n",
       "      <td>2015</td>\n",
       "      <td>4</td>\n",
       "      <td>8</td>\n",
       "      <td>59.4</td>\n",
       "    </tr>\n",
       "    <tr>\n",
       "      <th>4670</th>\n",
       "      <td>450005</td>\n",
       "      <td>Balmaceda Ad.</td>\n",
       "      <td>45&amp;deg 54' 46'' S</td>\n",
       "      <td>517</td>\n",
       "      <td>2015</td>\n",
       "      <td>5</td>\n",
       "      <td>15</td>\n",
       "      <td>61.6</td>\n",
       "    </tr>\n",
       "    <tr>\n",
       "      <th>5851</th>\n",
       "      <td>950001</td>\n",
       "      <td>C.M.A. Eduardo Frei Montalva, Antártica</td>\n",
       "      <td>62&amp;deg 11' 35'' S</td>\n",
       "      <td>45</td>\n",
       "      <td>2015</td>\n",
       "      <td>6</td>\n",
       "      <td>23</td>\n",
       "      <td>61.8</td>\n",
       "    </tr>\n",
       "    <tr>\n",
       "      <th>5371</th>\n",
       "      <td>370033</td>\n",
       "      <td>María Dolores, Los Angeles Ad.</td>\n",
       "      <td>37&amp;deg 24' 10'' S</td>\n",
       "      <td>120</td>\n",
       "      <td>2015</td>\n",
       "      <td>6</td>\n",
       "      <td>4</td>\n",
       "      <td>62.6</td>\n",
       "    </tr>\n",
       "    <tr>\n",
       "      <th>4473</th>\n",
       "      <td>390006</td>\n",
       "      <td>Pichoy, Valdivia Ad.</td>\n",
       "      <td>39&amp;deg 39' 2'' S</td>\n",
       "      <td>21</td>\n",
       "      <td>2015</td>\n",
       "      <td>5</td>\n",
       "      <td>29</td>\n",
       "      <td>63.1</td>\n",
       "    </tr>\n",
       "    <tr>\n",
       "      <th>5398</th>\n",
       "      <td>380013</td>\n",
       "      <td>Maquehue, Temuco Ad.</td>\n",
       "      <td>38&amp;deg 46' 4'' S</td>\n",
       "      <td>86</td>\n",
       "      <td>2015</td>\n",
       "      <td>6</td>\n",
       "      <td>1</td>\n",
       "      <td>65.3</td>\n",
       "    </tr>\n",
       "    <tr>\n",
       "      <th>4639</th>\n",
       "      <td>450004</td>\n",
       "      <td>Teniente Vidal, Coyhaique Ad.</td>\n",
       "      <td>45&amp;deg 35' 38'' S</td>\n",
       "      <td>310</td>\n",
       "      <td>2015</td>\n",
       "      <td>5</td>\n",
       "      <td>15</td>\n",
       "      <td>78.8</td>\n",
       "    </tr>\n",
       "    <tr>\n",
       "      <th>4553</th>\n",
       "      <td>430002</td>\n",
       "      <td>Futaleufú Ad.</td>\n",
       "      <td>43&amp;deg 11' 20'' S</td>\n",
       "      <td>347</td>\n",
       "      <td>2015</td>\n",
       "      <td>5</td>\n",
       "      <td>16</td>\n",
       "      <td>93.0</td>\n",
       "    </tr>\n",
       "    <tr>\n",
       "      <th>4584</th>\n",
       "      <td>430004</td>\n",
       "      <td>Alto Palena Ad.</td>\n",
       "      <td>43&amp;deg 36' 42'' S</td>\n",
       "      <td>281</td>\n",
       "      <td>2015</td>\n",
       "      <td>5</td>\n",
       "      <td>16</td>\n",
       "      <td>93.7</td>\n",
       "    </tr>\n",
       "    <tr>\n",
       "      <th>4612</th>\n",
       "      <td>450001</td>\n",
       "      <td>Puerto Aysén Ad.</td>\n",
       "      <td>45&amp;deg 23' 46'' S</td>\n",
       "      <td>10</td>\n",
       "      <td>2015</td>\n",
       "      <td>5</td>\n",
       "      <td>17</td>\n",
       "      <td>146.0</td>\n",
       "    </tr>\n",
       "  </tbody>\n",
       "</table>\n",
       "<p>5859 rows × 8 columns</p>\n",
       "</div>"
      ],
      "text/plain": [
       "       index                                  estacion          ubicacion  \\\n",
       "0     180005                     Chacalluta, Arica Ap.   18&deg 21' 5'' S   \n",
       "3288  330031   Juan Fernández, Estación Meteorológica.  33&deg 38' 12'' S   \n",
       "3289  330031   Juan Fernández, Estación Meteorológica.  33&deg 38' 12'' S   \n",
       "3291  330031   Juan Fernández, Estación Meteorológica.  33&deg 38' 12'' S   \n",
       "3293  330031   Juan Fernández, Estación Meteorológica.  33&deg 38' 12'' S   \n",
       "3294  330031   Juan Fernández, Estación Meteorológica.  33&deg 38' 12'' S   \n",
       "3298  330031   Juan Fernández, Estación Meteorológica.  33&deg 38' 12'' S   \n",
       "3299  330031   Juan Fernández, Estación Meteorológica.  33&deg 38' 12'' S   \n",
       "3300  330031   Juan Fernández, Estación Meteorológica.  33&deg 38' 12'' S   \n",
       "3301  330031   Juan Fernández, Estación Meteorológica.  33&deg 38' 12'' S   \n",
       "3302  330031   Juan Fernández, Estación Meteorológica.  33&deg 38' 12'' S   \n",
       "3303  330031   Juan Fernández, Estación Meteorológica.  33&deg 38' 12'' S   \n",
       "3306  330031   Juan Fernández, Estación Meteorológica.  33&deg 38' 12'' S   \n",
       "3308  340031                General Freire, Curicó Ad.  34&deg 57' 59'' S   \n",
       "3309  340031                General Freire, Curicó Ad.  34&deg 57' 59'' S   \n",
       "3310  340031                General Freire, Curicó Ad.  34&deg 57' 59'' S   \n",
       "3311  340031                General Freire, Curicó Ad.  34&deg 57' 59'' S   \n",
       "3312  340031                General Freire, Curicó Ad.  34&deg 57' 59'' S   \n",
       "3331  340031                General Freire, Curicó Ad.  34&deg 57' 59'' S   \n",
       "3330  340031                General Freire, Curicó Ad.  34&deg 57' 59'' S   \n",
       "3329  340031                General Freire, Curicó Ad.  34&deg 57' 59'' S   \n",
       "3328  340031                General Freire, Curicó Ad.  34&deg 57' 59'' S   \n",
       "3324  340031                General Freire, Curicó Ad.  34&deg 57' 59'' S   \n",
       "3321  340031                General Freire, Curicó Ad.  34&deg 57' 59'' S   \n",
       "3287  330031   Juan Fernández, Estación Meteorológica.  33&deg 38' 12'' S   \n",
       "3320  340031                General Freire, Curicó Ad.  34&deg 57' 59'' S   \n",
       "3318  340031                General Freire, Curicó Ad.  34&deg 57' 59'' S   \n",
       "3317  340031                General Freire, Curicó Ad.  34&deg 57' 59'' S   \n",
       "3316  340031                General Freire, Curicó Ad.  34&deg 57' 59'' S   \n",
       "3315  340031                General Freire, Curicó Ad.  34&deg 57' 59'' S   \n",
       "...      ...                                       ...                ...   \n",
       "3622  450001                          Puerto Aysén Ad.  45&deg 23' 46'' S   \n",
       "4556  430002                             Futaleufú Ad.  43&deg 11' 20'' S   \n",
       "5022  270001              Mataveri  Isla de Pascua Ap.   27&deg 9' 38'' S   \n",
       "4275  330031   Juan Fernández, Estación Meteorológica.  33&deg 38' 12'' S   \n",
       "4587  430004                           Alto Palena Ad.  43&deg 36' 42'' S   \n",
       "5549  430004                           Alto Palena Ad.  43&deg 36' 42'' S   \n",
       "2631  450001                          Puerto Aysén Ad.  45&deg 23' 46'' S   \n",
       "5813  550001  Guardia Marina Zañartu, Pto Williams Ad.  54&deg 55' 54'' S   \n",
       "4430  380013                      Maquehue, Temuco Ad.   38&deg 46' 4'' S   \n",
       "5554  430004                           Alto Palena Ad.  43&deg 36' 42'' S   \n",
       "4583  430004                           Alto Palena Ad.  43&deg 36' 42'' S   \n",
       "2637  450001                          Puerto Aysén Ad.  45&deg 23' 46'' S   \n",
       "3458  390006                      Pichoy, Valdivia Ad.   39&deg 39' 2'' S   \n",
       "5542  430002                             Futaleufú Ad.  43&deg 11' 20'' S   \n",
       "2651  450001                          Puerto Aysén Ad.  45&deg 23' 46'' S   \n",
       "4616  450001                          Puerto Aysén Ad.  45&deg 23' 46'' S   \n",
       "3616  450001                          Puerto Aysén Ad.  45&deg 23' 46'' S   \n",
       "4589  430004                           Alto Palena Ad.  43&deg 36' 42'' S   \n",
       "5431  390006                      Pichoy, Valdivia Ad.   39&deg 39' 2'' S   \n",
       "4444  380013                      Maquehue, Temuco Ad.   38&deg 46' 4'' S   \n",
       "3045  270001              Mataveri  Isla de Pascua Ap.   27&deg 9' 38'' S   \n",
       "4670  450005                             Balmaceda Ad.  45&deg 54' 46'' S   \n",
       "5851  950001  C.M.A. Eduardo Frei Montalva, Antártica   62&deg 11' 35'' S   \n",
       "5371  370033            María Dolores, Los Angeles Ad.  37&deg 24' 10'' S   \n",
       "4473  390006                      Pichoy, Valdivia Ad.   39&deg 39' 2'' S   \n",
       "5398  380013                      Maquehue, Temuco Ad.   38&deg 46' 4'' S   \n",
       "4639  450004             Teniente Vidal, Coyhaique Ad.  45&deg 35' 38'' S   \n",
       "4553  430002                             Futaleufú Ad.  43&deg 11' 20'' S   \n",
       "4584  430004                           Alto Palena Ad.  43&deg 36' 42'' S   \n",
       "4612  450001                          Puerto Aysén Ad.  45&deg 23' 46'' S   \n",
       "\n",
       "        x   ano  mes  dia   prec  \n",
       "0      63  2015    1    1    0.0  \n",
       "3288   35  2015    4   11    0.0  \n",
       "3289   35  2015    4   12    0.0  \n",
       "3291   35  2015    4   14    0.0  \n",
       "3293   35  2015    4   16    0.0  \n",
       "3294   35  2015    4   17    0.0  \n",
       "3298   35  2015    4   21    0.0  \n",
       "3299   35  2015    4   22    0.0  \n",
       "3300   35  2015    4   23    0.0  \n",
       "3301   35  2015    4   24    0.0  \n",
       "3302   35  2015    4   25    0.0  \n",
       "3303   35  2015    4   26    0.0  \n",
       "3306   35  2015    4   29    0.0  \n",
       "3308  230  2015    4    1    0.0  \n",
       "3309  230  2015    4    2    0.0  \n",
       "3310  230  2015    4    3    0.0  \n",
       "3311  230  2015    4    4    0.0  \n",
       "3312  230  2015    4    5    0.0  \n",
       "3331  230  2015    4   24    0.0  \n",
       "3330  230  2015    4   23    0.0  \n",
       "3329  230  2015    4   22    0.0  \n",
       "3328  230  2015    4   21    0.0  \n",
       "3324  230  2015    4   17    0.0  \n",
       "3321  230  2015    4   14    0.0  \n",
       "3287   35  2015    4   10    0.0  \n",
       "3320  230  2015    4   13    0.0  \n",
       "3318  230  2015    4   11    0.0  \n",
       "3317  230  2015    4   10    0.0  \n",
       "3316  230  2015    4    9    0.0  \n",
       "3315  230  2015    4    8    0.0  \n",
       "...   ...   ...  ...  ...    ...  \n",
       "3622   10  2015    4   19   43.4  \n",
       "4556  347  2015    5   19   43.6  \n",
       "5022   48  2015    6   15   44.0  \n",
       "4275   35  2015    5   17   44.4  \n",
       "4587  281  2015    5   19   44.6  \n",
       "5549  281  2015    6    2   45.2  \n",
       "2631   10  2015    3    8   45.5  \n",
       "5813   10  2015    6   15   47.2  \n",
       "4430   86  2015    5   17   47.5  \n",
       "5554  281  2015    6    7   48.7  \n",
       "4583  281  2015    5   15   48.8  \n",
       "2637   10  2015    3   15   49.0  \n",
       "3458   21  2015    4    1   51.1  \n",
       "5542  347  2015    6   25   52.2  \n",
       "2651   10  2015    3   31   53.5  \n",
       "4616   10  2015    5   21   56.0  \n",
       "3616   10  2015    4   12   56.0  \n",
       "4589  281  2015    5   21   57.8  \n",
       "5431   21  2015    6    4   58.4  \n",
       "4444   86  2015    5   31   58.5  \n",
       "3045   48  2015    4    8   59.4  \n",
       "4670  517  2015    5   15   61.6  \n",
       "5851   45  2015    6   23   61.8  \n",
       "5371  120  2015    6    4   62.6  \n",
       "4473   21  2015    5   29   63.1  \n",
       "5398   86  2015    6    1   65.3  \n",
       "4639  310  2015    5   15   78.8  \n",
       "4553  347  2015    5   16   93.0  \n",
       "4584  281  2015    5   16   93.7  \n",
       "4612   10  2015    5   17  146.0  \n",
       "\n",
       "[5859 rows x 8 columns]"
      ]
     },
     "execution_count": 109,
     "metadata": {},
     "output_type": "execute_result"
    }
   ],
   "source": [
    "data.sort_values('prec')"
   ]
  },
  {
   "cell_type": "code",
   "execution_count": 111,
   "metadata": {
    "collapsed": false
   },
   "outputs": [
    {
     "data": {
      "text/plain": [
       "723.2999999999998"
      ]
     },
     "execution_count": 111,
     "metadata": {},
     "output_type": "execute_result"
    }
   ],
   "source": [
    "data.loc[data['estacion'] == 'Pichoy, Valdivia Ad.', 'prec'].sum()"
   ]
  },
  {
   "cell_type": "code",
   "execution_count": null,
   "metadata": {
    "collapsed": true
   },
   "outputs": [],
   "source": []
  }
 ],
 "metadata": {
  "kernelspec": {
   "display_name": "Python [default]",
   "language": "python",
   "name": "python2"
  },
  "language_info": {
   "codemirror_mode": {
    "name": "ipython",
    "version": 2
   },
   "file_extension": ".py",
   "mimetype": "text/x-python",
   "name": "python",
   "nbconvert_exporter": "python",
   "pygments_lexer": "ipython2",
   "version": "2.7.12"
  }
 },
 "nbformat": 4,
 "nbformat_minor": 0
}
